{
 "cells": [
  {
   "cell_type": "code",
   "execution_count": null,
   "id": "2d7baf96",
   "metadata": {},
   "outputs": [],
   "source": [
    "from paraview.simple import *\n",
    "import numpy as np\n",
    "import pandas as pd\n",
    "\n",
    "# Load the VTK file\n",
    "vtk_file_path = 'results1.vtk'\n",
    "data = OpenDataFile(vtk_file_path)\n",
    "\n",
    "# Show the data in the render view\n",
    "Show(data)\n",
    "\n",
    "# Update the pipeline to ensure it is ready for extraction\n",
    "UpdatePipeline()\n",
    "\n",
    "# Resample the cell data to point data\n",
    "resampled_data = CellDatatoPointData(Input=data)\n",
    "\n",
    "# Extract the point coordinates\n",
    "points = servermanager.Fetch(resampled_data).GetPoints()\n",
    "coordinates = np.array([points.GetPoint(i) for i in range(points.GetNumberOfPoints())])\n",
    "\n",
    "# Extract the 'Temperature' array (replace 'Temperature' with the correct name if needed)\n",
    "arrays = servermanager.Fetch(resampled_data).GetPointData()\n",
    "temperature_array = arrays.GetArray('Temperature')  # Replace 'Temperature' with the actual field name\n",
    "temperature = np.array([temperature_array.GetValue(i) for i in range(temperature_array.GetNumberOfValues())])\n",
    "\n",
    "# Create a DataFrame for the coordinates and the temperature data\n",
    "df = pd.DataFrame(coordinates, columns=['x', 'y', 'z'])\n",
    "df['Temperature'] = temperature\n",
    "\n",
    "# Save the dataframe as a CSV\n",
    "csv_file_path = 'output_with_temperature.csv'\n",
    "df.to_csv(csv_file_path, index=False)\n",
    "\n",
    "print(f\"Data saved as {csv_file_path}\")\n"
   ]
  },
  {
   "cell_type": "code",
   "execution_count": null,
   "id": "06dc928c",
   "metadata": {},
   "outputs": [],
   "source": [
    "import pyvista as pv\n",
    "import pandas as pd\n",
    "\n",
    "# Load the VTK file\n",
    "vtk_file_path = 'results.vtk'\n",
    "mesh = pv.read(vtk_file_path)\n",
    "\n",
    "# Extract point coordinates\n",
    "points = mesh.points  # Points are in (n_points, 3)\n",
    "\n",
    "# Resample the cell data (e.g., 'Temperature') to point data\n",
    "cell_data_resampled = mesh.cell_data_to_point_data()  # This resamples cell data to point data\n",
    "\n",
    "# Extract the 'Temperature' field (replace with other field name if needed)\n",
    "temperature = cell_data_resampled['Temperature']  # Replace 'Temperature' with the actual field name\n",
    "\n",
    "# Create a DataFrame for the coordinates and the resampled temperature data\n",
    "df = pd.DataFrame(points, columns=['x', 'y', 'z'])\n",
    "df['Temperature'] = temperature\n",
    "\n",
    "# Save the dataframe as a CSV\n",
    "csv_file_path = 'output_with_temperature.csv'\n",
    "df.to_csv(csv_file_path, index=False)\n",
    "\n",
    "print(f\"Data saved as {csv_file_path}\")\n"
   ]
  }
 ],
 "metadata": {
  "kernelspec": {
   "display_name": "Python [conda env:base] *",
   "language": "python",
   "name": "conda-base-py"
  },
  "language_info": {
   "codemirror_mode": {
    "name": "ipython",
    "version": 3
   },
   "file_extension": ".py",
   "mimetype": "text/x-python",
   "name": "python",
   "nbconvert_exporter": "python",
   "pygments_lexer": "ipython3",
   "version": "3.11.5"
  }
 },
 "nbformat": 4,
 "nbformat_minor": 5
}
